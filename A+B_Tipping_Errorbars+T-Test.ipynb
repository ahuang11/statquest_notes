{
 "cells": [
  {
   "cell_type": "code",
   "execution_count": 1,
   "metadata": {
    "ExecuteTime": {
     "end_time": "2020-03-01T03:25:32.270899Z",
     "start_time": "2020-03-01T03:25:31.352578Z"
    }
   },
   "outputs": [],
   "source": [
    "import numpy as np\n",
    "import pandas as pd\n",
    "import xarray as xr\n",
    "import seaborn as sns\n",
    "import matplotlib.pyplot as plt\n",
    "\n",
    "from scipy import stats"
   ]
  },
  {
   "cell_type": "code",
   "execution_count": 2,
   "metadata": {
    "ExecuteTime": {
     "end_time": "2020-03-01T03:25:32.372794Z",
     "start_time": "2020-03-01T03:25:32.275726Z"
    }
   },
   "outputs": [],
   "source": [
    "df = sns.load_dataset('tips')\n",
    "df['percent_tip'] = df['tip'] / df['total_bill'] * 100\n",
    "df = pd.concat([df, df.assign(sex='Both')])\n",
    "ds = df.to_xarray().set_coords('sex')"
   ]
  },
  {
   "cell_type": "code",
   "execution_count": 3,
   "metadata": {
    "ExecuteTime": {
     "end_time": "2020-03-01T03:25:32.387547Z",
     "start_time": "2020-03-01T03:25:32.378635Z"
    }
   },
   "outputs": [],
   "source": [
    "def calc_bootstrap(data, bootstrap_index):\n",
    "    # https://github.com/rougier/numpy-100/blob/master/\n",
    "    # 100_Numpy_exercises_with_hints_with_solutions.md\n",
    "    # #100-compute-bootstrapped-95-confidence-intervals-\n",
    "    # for-the-mean-of-a-1d-array-x-ie-resample-the-\n",
    "    # elements-of-an-array-with-replacement-n-times-\n",
    "    # compute-the-mean-of-each-sample-and-\n",
    "    # then-compute-percentiles-over-the-means-\n",
    "    return data.squeeze(axis=-1)[bootstrap_index]\n",
    "\n",
    "\n",
    "def calc_bootstrap_means(da, iterations=1000):\n",
    "    index = xr.DataArray(\n",
    "        np.random.randint(0, len(da), (iterations, len(da))),\n",
    "        coords={'index': da['index'], 'sample': range(iterations)},\n",
    "        dims=['sample', 'index']\n",
    "    )\n",
    "    return xr.apply_ufunc(calc_bootstrap, da, index).mean('index')"
   ]
  },
  {
   "cell_type": "code",
   "execution_count": 4,
   "metadata": {
    "ExecuteTime": {
     "end_time": "2020-03-01T03:25:32.461287Z",
     "start_time": "2020-03-01T03:25:32.394827Z"
    }
   },
   "outputs": [],
   "source": [
    "sample_mean = ds['percent_tip'].groupby('sex').mean()\n",
    "sample_std = ds['percent_tip'].groupby('sex').std()\n",
    "bootstrap_means = {\n",
    "    sex: calc_bootstrap_means(ds['percent_tip']).values\n",
    "    for sex in np.unique(ds['sex'])\n",
    "}\n",
    "standard_err = {\n",
    "    sex: bs_mean.std()\n",
    "    for sex, bs_mean\n",
    "    in bootstrap_means.items()\n",
    "}\n",
    "lower_confidence_interval_err = {\n",
    "    sex: bs_mean.mean() - np.percentile(bs_mean, 2.5)\n",
    "    for sex, bs_mean\n",
    "    in bootstrap_means.items()\n",
    "}\n",
    "upper_confidence_interval_err = {\n",
    "    sex: np.percentile(bs_mean, 97.5) - bs_mean.mean()\n",
    "    for sex, bs_mean\n",
    "    in bootstrap_means.items()\n",
    "}"
   ]
  },
  {
   "cell_type": "code",
   "execution_count": 5,
   "metadata": {
    "ExecuteTime": {
     "end_time": "2020-03-01T03:25:32.479628Z",
     "start_time": "2020-03-01T03:25:32.465837Z"
    }
   },
   "outputs": [],
   "source": [
    "stat_df = pd.concat([\n",
    "    pd.Series(sample_mean, index=sample_mean['sex'], name='sample_mean'),\n",
    "    pd.Series(sample_std, index=sample_mean['sex'], name='sample_std'),\n",
    "    pd.Series(standard_err, name='standard_err'),\n",
    "    pd.Series(lower_confidence_interval_err, \n",
    "              name='lower_confidence_interval_err'),\n",
    "    pd.Series(upper_confidence_interval_err,\n",
    "              name='upper_confidence_interval_err')\n",
    "], axis=1).reset_index()"
   ]
  },
  {
   "cell_type": "code",
   "execution_count": 6,
   "metadata": {
    "ExecuteTime": {
     "end_time": "2020-03-01T03:25:32.852261Z",
     "start_time": "2020-03-01T03:25:32.487221Z"
    }
   },
   "outputs": [
    {
     "data": {
      "text/plain": [
       "<matplotlib.collections.PathCollection at 0x7f54d9339dd8>"
      ]
     },
     "execution_count": 6,
     "metadata": {},
     "output_type": "execute_result"
    },
    {
     "data": {
      "text/plain": [
       "<ErrorbarContainer object of 3 artists>"
      ]
     },
     "execution_count": 6,
     "metadata": {},
     "output_type": "execute_result"
    },
    {
     "data": {
      "text/plain": [
       "<ErrorbarContainer object of 3 artists>"
      ]
     },
     "execution_count": 6,
     "metadata": {},
     "output_type": "execute_result"
    },
    {
     "data": {
      "text/plain": [
       "<ErrorbarContainer object of 3 artists>"
      ]
     },
     "execution_count": 6,
     "metadata": {},
     "output_type": "execute_result"
    },
    {
     "data": {
      "text/plain": [
       "Text(0, 0.5, 'Tip Percent of Total Bill')"
      ]
     },
     "execution_count": 6,
     "metadata": {},
     "output_type": "execute_result"
    },
    {
     "data": {
      "text/plain": [
       "<matplotlib.legend.Legend at 0x7f54d92fe7f0>"
      ]
     },
     "execution_count": 6,
     "metadata": {},
     "output_type": "execute_result"
    },
    {
     "data": {
      "image/png": "[encoded data removed]",
      "text/plain": [
       "<Figure size 576x504 with 1 Axes>"
      ]
     },
     "metadata": {},
     "output_type": "display_data"
    }
   ],
   "source": [
    "fig = plt.figure(figsize=(8, 7))\n",
    "ax = plt.axes()\n",
    "ax.scatter(stat_df['sex'], stat_df['sample_mean'])\n",
    "ax.errorbar(stat_df['sex'], stat_df['sample_mean'],\n",
    "            yerr=stat_df['sample_std'], capsize=16,\n",
    "            label='Standard Deviation')\n",
    "ax.errorbar(stat_df['sex'], stat_df['sample_mean'],\n",
    "            yerr=stat_df['standard_err'], capsize=16, label='Standard Error')\n",
    "ax.errorbar(stat_df['sex'], stat_df['sample_mean'],\n",
    "            yerr=[stat_df['lower_confidence_interval_err'],\n",
    "                  stat_df['upper_confidence_interval_err']], capsize=16,\n",
    "            label='95% Confidence Interval')\n",
    "ax.set_ylabel('Tip Percent of Total Bill')\n",
    "ax.legend()"
   ]
  },
  {
   "cell_type": "code",
   "execution_count": 7,
   "metadata": {
    "ExecuteTime": {
     "end_time": "2020-03-01T03:25:32.863484Z",
     "start_time": "2020-03-01T03:25:32.856626Z"
    }
   },
   "outputs": [
    {
     "name": "stdout",
     "output_type": "stream",
     "text": [
      "Because the p-value (0.69) is greater than 0.05, there is no statistically significant difference of tipping between Males and Females\n"
     ]
    }
   ],
   "source": [
    "t, p_two_tailed = stats.ttest_ind(\n",
    "    bootstrap_means['Male'], bootstrap_means['Female'])\n",
    "print(f'Because the p-value ({p_two_tailed:.2f}) is greater than 0.05, '\n",
    "      f'there is no statistically significant difference of tipping '\n",
    "      f'between Males and Females')"
   ]
  }
 ],
 "metadata": {
  "kernelspec": {
   "display_name": "Python [conda env:anaconda3]",
   "language": "python",
   "name": "conda-env-anaconda3-py"
  },
  "language_info": {
   "codemirror_mode": {
    "name": "ipython",
    "version": 3
   },
   "file_extension": ".py",
   "mimetype": "text/x-python",
   "name": "python",
   "nbconvert_exporter": "python",
   "pygments_lexer": "ipython3",
   "version": "3.6.7"
  },
  "varInspector": {
   "cols": {
    "lenName": 16,
    "lenType": 16,
    "lenVar": 40
   },
   "kernels_config": {
    "python": {
     "delete_cmd_postfix": "",
     "delete_cmd_prefix": "del ",
     "library": "var_list.py",
     "varRefreshCmd": "print(var_dic_list())"
    },
    "r": {
     "delete_cmd_postfix": ") ",
     "delete_cmd_prefix": "rm(",
     "library": "var_list.r",
     "varRefreshCmd": "cat(var_dic_list()) "
    }
   },
   "types_to_exclude": [
    "module",
    "function",
    "builtin_function_or_method",
    "instance",
    "_Feature"
   ],
   "window_display": false
  }
 },
 "nbformat": 4,
 "nbformat_minor": 2
}
